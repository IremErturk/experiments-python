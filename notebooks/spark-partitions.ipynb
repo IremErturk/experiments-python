{
 "cells": [
  {
   "cell_type": "code",
   "execution_count": 1,
   "id": "9f5f5655",
   "metadata": {},
   "outputs": [
    {
     "name": "stderr",
     "output_type": "stream",
     "text": [
      "WARNING: An illegal reflective access operation has occurred\n",
      "WARNING: Illegal reflective access by org.apache.spark.unsafe.Platform (file:/usr/local/Cellar/apache-spark/3.2.1/libexec/jars/spark-unsafe_2.12-3.2.1.jar) to constructor java.nio.DirectByteBuffer(long,int)\n",
      "WARNING: Please consider reporting this to the maintainers of org.apache.spark.unsafe.Platform\n",
      "WARNING: Use --illegal-access=warn to enable warnings of further illegal reflective access operations\n",
      "WARNING: All illegal access operations will be denied in a future release\n",
      "Using Spark's default log4j profile: org/apache/spark/log4j-defaults.properties\n",
      "Setting default log level to \"WARN\".\n",
      "To adjust logging level use sc.setLogLevel(newLevel). For SparkR, use setLogLevel(newLevel).\n",
      "22/04/02 23:15:03 WARN NativeCodeLoader: Unable to load native-hadoop library for your platform... using builtin-java classes where applicable\n"
     ]
    }
   ],
   "source": [
    "import pyspark\n",
    "from pyspark.sql import SparkSession\n",
    "\n",
    "spark = SparkSession.builder \\\n",
    "    .master(\"local[*]\") \\\n",
    "    .appName('partitions') \\\n",
    "    .getOrCreate()"
   ]
  },
  {
   "cell_type": "markdown",
   "id": "9555ff9a",
   "metadata": {
    "heading_collapsed": true
   },
   "source": [
    "### 0.Prepare Sample Data:\n",
    "\n",
    "Pull Green Taxi data in 2019-2020 \n",
    "The csv files will be stored in /data/raw/green folder"
   ]
  },
  {
   "cell_type": "code",
   "execution_count": 13,
   "id": "49308d3c",
   "metadata": {
    "hidden": true
   },
   "outputs": [
    {
     "data": {
      "text/plain": [
       "[]"
      ]
     },
     "execution_count": 13,
     "metadata": {},
     "output_type": "execute_result"
    }
   ],
   "source": [
    "%system mkdir -p data\n",
    "%system mkdir -p data/partitions"
   ]
  },
  {
   "cell_type": "code",
   "execution_count": 7,
   "id": "f736a50a",
   "metadata": {
    "hidden": true
   },
   "outputs": [],
   "source": [
    "from pyspark.sql import types"
   ]
  },
  {
   "cell_type": "code",
   "execution_count": 8,
   "id": "83658bb9",
   "metadata": {
    "hidden": true
   },
   "outputs": [],
   "source": [
    "green_schema = types.StructType([\n",
    "    types.StructField(\"VendorID\", types.IntegerType(), True),\n",
    "    types.StructField(\"lpep_pickup_datetime\", types.TimestampType(), True),\n",
    "    types.StructField(\"lpep_dropoff_datetime\", types.TimestampType(), True),\n",
    "    types.StructField(\"store_and_fwd_flag\", types.StringType(), True),\n",
    "    types.StructField(\"RatecodeID\", types.IntegerType(), True),\n",
    "    types.StructField(\"PULocationID\", types.IntegerType(), True),\n",
    "    types.StructField(\"DOLocationID\", types.IntegerType(), True),\n",
    "    types.StructField(\"passenger_count\", types.IntegerType(), True),\n",
    "    types.StructField(\"trip_distance\", types.DoubleType(), True),\n",
    "    types.StructField(\"fare_amount\", types.DoubleType(), True),\n",
    "    types.StructField(\"extra\", types.DoubleType(), True),\n",
    "    types.StructField(\"mta_tax\", types.DoubleType(), True),\n",
    "    types.StructField(\"tip_amount\", types.DoubleType(), True),\n",
    "    types.StructField(\"tolls_amount\", types.DoubleType(), True),\n",
    "    types.StructField(\"ehail_fee\", types.DoubleType(), True),\n",
    "    types.StructField(\"improvement_surcharge\", types.DoubleType(), True),\n",
    "    types.StructField(\"total_amount\", types.DoubleType(), True),\n",
    "    types.StructField(\"payment_type\", types.IntegerType(), True),\n",
    "    types.StructField(\"trip_type\", types.IntegerType(), True),\n",
    "    types.StructField(\"congestion_surcharge\", types.DoubleType(), True)\n",
    "])\n",
    "\n",
    "YEARS = [2019, 2020]"
   ]
  },
  {
   "cell_type": "code",
   "execution_count": 9,
   "id": "95965778",
   "metadata": {
    "hidden": true
   },
   "outputs": [],
   "source": [
    "def populate_data(taxi_color:str ,schema: types.StructType):\n",
    "    input_paths = []\n",
    "    for year in YEARS:\n",
    "        for month in range(1, 13):\n",
    "            input_paths.append(f'data/raw/{taxi_color}/{year}/{month:02d}/')\n",
    "    \n",
    "    print(f'processing data for {taxi_color}_tripdata')    \n",
    "    df = spark.read \\\n",
    "        .option(\"header\", \"true\") \\\n",
    "        .schema(schema) \\\n",
    "        .csv(input_paths)\n",
    "    print(f'data processing finished for {taxi_color}_tripdata')\n",
    "    return df"
   ]
  },
  {
   "cell_type": "code",
   "execution_count": 10,
   "id": "01256656",
   "metadata": {
    "hidden": true
   },
   "outputs": [
    {
     "name": "stdout",
     "output_type": "stream",
     "text": [
      "processing data for green_tripdata\n",
      "data processing finished for green_tripdata\n"
     ]
    },
    {
     "data": {
      "text/plain": [
       "DataFrame[VendorID: int, lpep_pickup_datetime: timestamp, lpep_dropoff_datetime: timestamp, store_and_fwd_flag: string, RatecodeID: int, PULocationID: int, DOLocationID: int, passenger_count: int, trip_distance: double, fare_amount: double, extra: double, mta_tax: double, tip_amount: double, tolls_amount: double, ehail_fee: double, improvement_surcharge: double, total_amount: double, payment_type: int, trip_type: int, congestion_surcharge: double]"
      ]
     },
     "execution_count": 10,
     "metadata": {},
     "output_type": "execute_result"
    }
   ],
   "source": [
    "from pyspark.sql.functions import year\n",
    "green_df = populate_data(\"green\",green_schema)\n",
    "\n",
    "green_df \\\n",
    "    .filter(year(\"lpep_pickup_datetime\") < 2019)\\\n",
    "    .filter(year(\"lpep_pickup_datetime\") > 2020)\n"
   ]
  },
  {
   "cell_type": "code",
   "execution_count": 44,
   "id": "24822a71",
   "metadata": {
    "hidden": true
   },
   "outputs": [],
   "source": [
    "from pyspark.sql.functions import year, month, dayofmonth\n",
    "\n",
    "green_df = green_df \\\n",
    "    .withColumn(\"pickup_year\", year(\"lpep_pickup_datetime\")) \\\n",
    "    .withColumn(\"pickup_month\", month(\"lpep_pickup_datetime\")) \\\n",
    "    .withColumn(\"pickup_day\", dayofmonth(\"lpep_pickup_datetime\"))"
   ]
  },
  {
   "cell_type": "markdown",
   "id": "4e4af9bb",
   "metadata": {},
   "source": [
    "### 1. Partitions"
   ]
  },
  {
   "cell_type": "markdown",
   "id": "b95c217a",
   "metadata": {
    "heading_collapsed": true
   },
   "source": [
    "#### 1.1 : How data is written without specific partition configuration"
   ]
  },
  {
   "cell_type": "code",
   "execution_count": 12,
   "id": "2bfa7670",
   "metadata": {
    "hidden": true
   },
   "outputs": [
    {
     "name": "stdout",
     "output_type": "stream",
     "text": [
      "Green Partitions by default 15\n"
     ]
    }
   ],
   "source": [
    "print(f'Green Partitions by default {green_df.rdd.getNumPartitions()}')"
   ]
  },
  {
   "cell_type": "code",
   "execution_count": 15,
   "id": "ed999e11",
   "metadata": {
    "hidden": true
   },
   "outputs": [
    {
     "name": "stderr",
     "output_type": "stream",
     "text": [
      "                                                                                \r"
     ]
    }
   ],
   "source": [
    "green_df.write.mode(\"overwrite\").csv(\"data/partitions/default.csv\", header=True)"
   ]
  },
  {
   "cell_type": "code",
   "execution_count": 16,
   "id": "e634c7ca",
   "metadata": {
    "hidden": true
   },
   "outputs": [
    {
     "name": "stdout",
     "output_type": "stream",
     "text": [
      "      15\r\n"
     ]
    }
   ],
   "source": [
    "! find data/partitions/default.csv ! -name \".*\" ! -name \"_SUCCESS\" -type f | wc -l"
   ]
  },
  {
   "cell_type": "code",
   "execution_count": 29,
   "id": "b7dca20f",
   "metadata": {
    "hidden": true
   },
   "outputs": [
    {
     "name": "stdout",
     "output_type": "stream",
     "text": [
      "     0 data/partitions/default.csv/_SUCCESS\r\n",
      "163968 data/partitions/default.csv/part-00000-3b00a939-a590-48d0-8c4e-568af0a4175a-c000.csv\r\n",
      "163968 data/partitions/default.csv/part-00001-3b00a939-a590-48d0-8c4e-568af0a4175a-c000.csv\r\n",
      "163968 data/partitions/default.csv/part-00002-3b00a939-a590-48d0-8c4e-568af0a4175a-c000.csv\r\n",
      "123008 data/partitions/default.csv/part-00003-3b00a939-a590-48d0-8c4e-568af0a4175a-c000.csv\r\n",
      "120960 data/partitions/default.csv/part-00004-3b00a939-a590-48d0-8c4e-568af0a4175a-c000.csv\r\n",
      "112768 data/partitions/default.csv/part-00005-3b00a939-a590-48d0-8c4e-568af0a4175a-c000.csv\r\n",
      "114816 data/partitions/default.csv/part-00006-3b00a939-a590-48d0-8c4e-568af0a4175a-c000.csv\r\n",
      "112768 data/partitions/default.csv/part-00007-3b00a939-a590-48d0-8c4e-568af0a4175a-c000.csv\r\n",
      "108672 data/partitions/default.csv/part-00008-3b00a939-a590-48d0-8c4e-568af0a4175a-c000.csv\r\n",
      "108672 data/partitions/default.csv/part-00009-3b00a939-a590-48d0-8c4e-568af0a4175a-c000.csv\r\n",
      "229504 data/partitions/default.csv/part-00010-3b00a939-a590-48d0-8c4e-568af0a4175a-c000.csv\r\n",
      "229504 data/partitions/default.csv/part-00011-3b00a939-a590-48d0-8c4e-568af0a4175a-c000.csv\r\n",
      " 98432 data/partitions/default.csv/part-00012-3b00a939-a590-48d0-8c4e-568af0a4175a-c000.csv\r\n",
      " 80000 data/partitions/default.csv/part-00013-3b00a939-a590-48d0-8c4e-568af0a4175a-c000.csv\r\n",
      " 39040 data/partitions/default.csv/part-00014-3b00a939-a590-48d0-8c4e-568af0a4175a-c000.csv\r\n"
     ]
    }
   ],
   "source": [
    "! ls -sh data/partitions/default.csv/*"
   ]
  },
  {
   "cell_type": "markdown",
   "id": "4833d1e1",
   "metadata": {
    "heading_collapsed": true
   },
   "source": [
    "#### 1.2 : Coalesce"
   ]
  },
  {
   "cell_type": "code",
   "execution_count": 17,
   "id": "a446a19e",
   "metadata": {
    "hidden": true
   },
   "outputs": [
    {
     "name": "stdout",
     "output_type": "stream",
     "text": [
      "15\n"
     ]
    }
   ],
   "source": [
    "# As seen coalesce does not effect partition number \n",
    "# when the given number is greater than the current partition count\n",
    "# therefore coalesce is used only for reducing the partitions..\n",
    "df = green_df.coalesce(24)\n",
    "print(df.rdd.getNumPartitions())"
   ]
  },
  {
   "cell_type": "code",
   "execution_count": 18,
   "id": "9cd75e7b",
   "metadata": {
    "hidden": true
   },
   "outputs": [
    {
     "name": "stdout",
     "output_type": "stream",
     "text": [
      "8\n"
     ]
    }
   ],
   "source": [
    "df = green_df.coalesce(8)\n",
    "print(df.rdd.getNumPartitions())"
   ]
  },
  {
   "cell_type": "code",
   "execution_count": 19,
   "id": "ae51556b",
   "metadata": {
    "hidden": true
   },
   "outputs": [
    {
     "name": "stderr",
     "output_type": "stream",
     "text": [
      "                                                                                \r"
     ]
    }
   ],
   "source": [
    "## Does not shuffle data therefore, parttion sizes may vary\n",
    "df.write.mode(\"overwrite\").csv(\"data/partitions/coalesce_8.csv\", header=True)"
   ]
  },
  {
   "cell_type": "code",
   "execution_count": 30,
   "id": "4a3f5cfc",
   "metadata": {
    "hidden": true
   },
   "outputs": [
    {
     "name": "stdout",
     "output_type": "stream",
     "text": [
      "     0 data/partitions/coalesce_8.csv/_SUCCESS\r\n",
      "163968 data/partitions/coalesce_8.csv/part-00000-14ccac30-383e-4856-86d1-ccaea29bbdc8-c000.csv\r\n",
      "295040 data/partitions/coalesce_8.csv/part-00001-14ccac30-383e-4856-86d1-ccaea29bbdc8-c000.csv\r\n",
      "262272 data/partitions/coalesce_8.csv/part-00002-14ccac30-383e-4856-86d1-ccaea29bbdc8-c000.csv\r\n",
      "229504 data/partitions/coalesce_8.csv/part-00003-14ccac30-383e-4856-86d1-ccaea29bbdc8-c000.csv\r\n",
      "229504 data/partitions/coalesce_8.csv/part-00004-14ccac30-383e-4856-86d1-ccaea29bbdc8-c000.csv\r\n",
      "327808 data/partitions/coalesce_8.csv/part-00005-14ccac30-383e-4856-86d1-ccaea29bbdc8-c000.csv\r\n",
      "327808 data/partitions/coalesce_8.csv/part-00006-14ccac30-383e-4856-86d1-ccaea29bbdc8-c000.csv\r\n",
      "116864 data/partitions/coalesce_8.csv/part-00007-14ccac30-383e-4856-86d1-ccaea29bbdc8-c000.csv\r\n"
     ]
    }
   ],
   "source": [
    "! ls -sh data/partitions/coalesce_8.csv/*"
   ]
  },
  {
   "cell_type": "markdown",
   "id": "72a78c3a",
   "metadata": {
    "heading_collapsed": true
   },
   "source": [
    "####  1.3 :  Repartition: Number"
   ]
  },
  {
   "cell_type": "code",
   "execution_count": 52,
   "id": "fbbb9810",
   "metadata": {
    "hidden": true
   },
   "outputs": [
    {
     "name": "stderr",
     "output_type": "stream",
     "text": [
      "[Stage 23:====================================================>   (14 + 1) / 15]\r"
     ]
    },
    {
     "name": "stdout",
     "output_type": "stream",
     "text": [
      "8\n"
     ]
    }
   ],
   "source": [
    "df = green_df.repartition(8)\n",
    "print(df.rdd.getNumPartitions())"
   ]
  },
  {
   "cell_type": "code",
   "execution_count": 53,
   "id": "d9bd21d8",
   "metadata": {
    "hidden": true
   },
   "outputs": [
    {
     "name": "stderr",
     "output_type": "stream",
     "text": [
      "                                                                                \r"
     ]
    }
   ],
   "source": [
    "## Shuffles data therefore, expected to have similiar size files\n",
    "df.write.mode(\"overwrite\").csv(\"data/partitions/repartition_8.csv\", header=True)"
   ]
  },
  {
   "cell_type": "code",
   "execution_count": 54,
   "id": "8f572bee",
   "metadata": {
    "hidden": true
   },
   "outputs": [
    {
     "name": "stdout",
     "output_type": "stream",
     "text": [
      "     0 data/partitions/repartition_8.csv/_SUCCESS\r\n",
      "264192 data/partitions/repartition_8.csv/part-00000-bc690253-3c0c-48f7-bfc5-8d1eb0619026-c000.csv\r\n",
      "263936 data/partitions/repartition_8.csv/part-00001-bc690253-3c0c-48f7-bfc5-8d1eb0619026-c000.csv\r\n",
      "263680 data/partitions/repartition_8.csv/part-00002-bc690253-3c0c-48f7-bfc5-8d1eb0619026-c000.csv\r\n",
      "263552 data/partitions/repartition_8.csv/part-00003-bc690253-3c0c-48f7-bfc5-8d1eb0619026-c000.csv\r\n",
      "263680 data/partitions/repartition_8.csv/part-00004-bc690253-3c0c-48f7-bfc5-8d1eb0619026-c000.csv\r\n",
      "264064 data/partitions/repartition_8.csv/part-00005-bc690253-3c0c-48f7-bfc5-8d1eb0619026-c000.csv\r\n",
      "263424 data/partitions/repartition_8.csv/part-00006-bc690253-3c0c-48f7-bfc5-8d1eb0619026-c000.csv\r\n",
      "263936 data/partitions/repartition_8.csv/part-00007-bc690253-3c0c-48f7-bfc5-8d1eb0619026-c000.csv\r\n"
     ]
    }
   ],
   "source": [
    "! ls -sh data/partitions/repartition_8.csv/*"
   ]
  },
  {
   "cell_type": "markdown",
   "id": "b29ad5ff",
   "metadata": {
    "heading_collapsed": true
   },
   "source": [
    "#### 1.4 : Repartition: Column (V1)"
   ]
  },
  {
   "cell_type": "code",
   "execution_count": 34,
   "id": "55ff70b7",
   "metadata": {
    "hidden": true
   },
   "outputs": [
    {
     "name": "stderr",
     "output_type": "stream",
     "text": [
      "[Stage 7:=====================================================>   (14 + 1) / 15]\r"
     ]
    },
    {
     "name": "stdout",
     "output_type": "stream",
     "text": [
      "4\n"
     ]
    }
   ],
   "source": [
    "df = green_df.repartition(\"payment_type\")\n",
    "print(df.rdd.getNumPartitions())"
   ]
  },
  {
   "cell_type": "code",
   "execution_count": 35,
   "id": "9cbfabad",
   "metadata": {
    "hidden": true
   },
   "outputs": [
    {
     "name": "stderr",
     "output_type": "stream",
     "text": [
      "                                                                                \r"
     ]
    }
   ],
   "source": [
    "df.write.mode(\"overwrite\").csv(\"data/partitions/repartition_col_v1.csv\", header=True)"
   ]
  },
  {
   "cell_type": "code",
   "execution_count": 36,
   "id": "ec304371",
   "metadata": {
    "hidden": true
   },
   "outputs": [
    {
     "name": "stdout",
     "output_type": "stream",
     "text": [
      "     0 data/partitions/repartition_col_v1.csv/_SUCCESS\r\n",
      "262272 data/partitions/repartition_col_v1.csv/part-00000-a5c7301a-5575-41d0-a2f8-7f3a8ca6c790-c000.csv\r\n",
      "919168 data/partitions/repartition_col_v1.csv/part-00001-a5c7301a-5575-41d0-a2f8-7f3a8ca6c790-c000.csv\r\n",
      " 12256 data/partitions/repartition_col_v1.csv/part-00002-a5c7301a-5575-41d0-a2f8-7f3a8ca6c790-c000.csv\r\n",
      "689920 data/partitions/repartition_col_v1.csv/part-00003-a5c7301a-5575-41d0-a2f8-7f3a8ca6c790-c000.csv\r\n"
     ]
    }
   ],
   "source": [
    "! ls -sh data/partitions/repartition_col_v1.csv/*"
   ]
  },
  {
   "cell_type": "code",
   "execution_count": 58,
   "id": "e2f956b4",
   "metadata": {
    "hidden": true
   },
   "outputs": [],
   "source": [
    "df_sample = spark.read.csv('data/partitions/repartition_col_v1.csv/part-00003-a5c7301a-5575-41d0-a2f8-7f3a8ca6c790-c000.csv', header=True)"
   ]
  },
  {
   "cell_type": "code",
   "execution_count": 59,
   "id": "9ae52933",
   "metadata": {
    "hidden": true
   },
   "outputs": [
    {
     "name": "stderr",
     "output_type": "stream",
     "text": [
      "                                                                                \r"
     ]
    },
    {
     "data": {
      "text/plain": [
       "[Row(payment_type='2')]"
      ]
     },
     "execution_count": 59,
     "metadata": {},
     "output_type": "execute_result"
    }
   ],
   "source": [
    "df_sample.select('payment_type').distinct().collect()"
   ]
  },
  {
   "cell_type": "markdown",
   "id": "5928a797",
   "metadata": {
    "heading_collapsed": true
   },
   "source": [
    "#### 1.5 : Repartition: Column (V2)"
   ]
  },
  {
   "cell_type": "code",
   "execution_count": 38,
   "id": "99729525",
   "metadata": {
    "hidden": true
   },
   "outputs": [
    {
     "name": "stderr",
     "output_type": "stream",
     "text": [
      "[Stage 11:====================================================>   (14 + 1) / 15]\r"
     ]
    },
    {
     "name": "stdout",
     "output_type": "stream",
     "text": [
      "13\n"
     ]
    }
   ],
   "source": [
    "df = green_df.repartition(\"pickup_year\", \"pickup_month\", \"pickup_day\")\n",
    "print(df.rdd.getNumPartitions())"
   ]
  },
  {
   "cell_type": "code",
   "execution_count": 39,
   "id": "a0d0263c",
   "metadata": {
    "hidden": true
   },
   "outputs": [
    {
     "name": "stderr",
     "output_type": "stream",
     "text": [
      "                                                                                \r"
     ]
    }
   ],
   "source": [
    "df.write.mode(\"overwrite\").csv(\"data/partitions/repartition_col_v2.csv\", header=True)"
   ]
  },
  {
   "cell_type": "code",
   "execution_count": 40,
   "id": "cb1c54df",
   "metadata": {
    "hidden": true
   },
   "outputs": [
    {
     "name": "stdout",
     "output_type": "stream",
     "text": [
      "     0 data/partitions/repartition_col_v2.csv/_SUCCESS\r\n",
      "165120 data/partitions/repartition_col_v2.csv/part-00000-15acf577-f098-4818-9b0b-5c6b5f04fdc6-c000.csv\r\n",
      "164864 data/partitions/repartition_col_v2.csv/part-00001-15acf577-f098-4818-9b0b-5c6b5f04fdc6-c000.csv\r\n",
      "164608 data/partitions/repartition_col_v2.csv/part-00002-15acf577-f098-4818-9b0b-5c6b5f04fdc6-c000.csv\r\n",
      "164608 data/partitions/repartition_col_v2.csv/part-00003-15acf577-f098-4818-9b0b-5c6b5f04fdc6-c000.csv\r\n",
      "164864 data/partitions/repartition_col_v2.csv/part-00004-15acf577-f098-4818-9b0b-5c6b5f04fdc6-c000.csv\r\n",
      "197504 data/partitions/repartition_col_v2.csv/part-00005-15acf577-f098-4818-9b0b-5c6b5f04fdc6-c000.csv\r\n",
      "164608 data/partitions/repartition_col_v2.csv/part-00006-15acf577-f098-4818-9b0b-5c6b5f04fdc6-c000.csv\r\n",
      "164864 data/partitions/repartition_col_v2.csv/part-00007-15acf577-f098-4818-9b0b-5c6b5f04fdc6-c000.csv\r\n",
      "164608 data/partitions/repartition_col_v2.csv/part-00008-15acf577-f098-4818-9b0b-5c6b5f04fdc6-c000.csv\r\n",
      "164608 data/partitions/repartition_col_v2.csv/part-00009-15acf577-f098-4818-9b0b-5c6b5f04fdc6-c000.csv\r\n",
      "164608 data/partitions/repartition_col_v2.csv/part-00010-15acf577-f098-4818-9b0b-5c6b5f04fdc6-c000.csv\r\n",
      "164736 data/partitions/repartition_col_v2.csv/part-00011-15acf577-f098-4818-9b0b-5c6b5f04fdc6-c000.csv\r\n",
      "165632 data/partitions/repartition_col_v2.csv/part-00012-15acf577-f098-4818-9b0b-5c6b5f04fdc6-c000.csv\r\n"
     ]
    }
   ],
   "source": [
    "! ls -sh data/partitions/repartition_col_v2.csv/*"
   ]
  },
  {
   "cell_type": "markdown",
   "id": "6621a1c5",
   "metadata": {
    "heading_collapsed": true
   },
   "source": [
    "#### 1.6  PartitionBy: Column"
   ]
  },
  {
   "cell_type": "code",
   "execution_count": 61,
   "id": "f00eeaf8",
   "metadata": {
    "hidden": true
   },
   "outputs": [
    {
     "name": "stderr",
     "output_type": "stream",
     "text": [
      "                                                                                \r"
     ]
    }
   ],
   "source": [
    "green_df \\\n",
    "    .write \\\n",
    "    .partitionBy(\"pickup_year\", \"pickup_month\") \\\n",
    "    .mode(\"overwrite\") \\\n",
    "    .csv(\"data/partitions/partitionBy.csv\", header=True)"
   ]
  },
  {
   "cell_type": "code",
   "execution_count": 84,
   "id": "898b7b4a",
   "metadata": {
    "hidden": true
   },
   "outputs": [
    {
     "name": "stdout",
     "output_type": "stream",
     "text": [
      "_SUCCESS         \u001b[1m\u001b[36mpickup_year=2010\u001b[m\u001b[m \u001b[1m\u001b[36mpickup_year=2020\u001b[m\u001b[m \u001b[1m\u001b[36mpickup_year=2041\u001b[m\u001b[m\r\n",
      "\u001b[1m\u001b[36mpickup_year=2008\u001b[m\u001b[m \u001b[1m\u001b[36mpickup_year=2018\u001b[m\u001b[m \u001b[1m\u001b[36mpickup_year=2021\u001b[m\u001b[m \u001b[1m\u001b[36mpickup_year=2062\u001b[m\u001b[m\r\n",
      "\u001b[1m\u001b[36mpickup_year=2009\u001b[m\u001b[m \u001b[1m\u001b[36mpickup_year=2019\u001b[m\u001b[m \u001b[1m\u001b[36mpickup_year=2035\u001b[m\u001b[m\r\n"
     ]
    }
   ],
   "source": [
    "! ls data/partitions/partitionBy.csv"
   ]
  },
  {
   "cell_type": "code",
   "execution_count": 99,
   "id": "e6159a63",
   "metadata": {
    "hidden": true
   },
   "outputs": [
    {
     "name": "stdout",
     "output_type": "stream",
     "text": [
      "ls: e: No such file or directory\r\n",
      "data/partitions/partitionBy.csv/pickup_year=2020:\r\n",
      "\u001b[1m\u001b[36mpickup_month=1\u001b[m\u001b[m  \u001b[1m\u001b[36mpickup_month=12\u001b[m\u001b[m \u001b[1m\u001b[36mpickup_month=4\u001b[m\u001b[m  \u001b[1m\u001b[36mpickup_month=7\u001b[m\u001b[m\r\n",
      "\u001b[1m\u001b[36mpickup_month=10\u001b[m\u001b[m \u001b[1m\u001b[36mpickup_month=2\u001b[m\u001b[m  \u001b[1m\u001b[36mpickup_month=5\u001b[m\u001b[m  \u001b[1m\u001b[36mpickup_month=8\u001b[m\u001b[m\r\n",
      "\u001b[1m\u001b[36mpickup_month=11\u001b[m\u001b[m \u001b[1m\u001b[36mpickup_month=3\u001b[m\u001b[m  \u001b[1m\u001b[36mpickup_month=6\u001b[m\u001b[m  \u001b[1m\u001b[36mpickup_month=9\u001b[m\u001b[m\r\n"
     ]
    }
   ],
   "source": [
    "! ls data/partitions/partitionBy.csv/pickup_year=2020 "
   ]
  },
  {
   "cell_type": "code",
   "execution_count": 93,
   "id": "0ed5e916",
   "metadata": {
    "hidden": true
   },
   "outputs": [],
   "source": [
    "# ! cd data/partitions/partitionsBy.csv | tree --du -d -shaC | grep -Ev '(  *[^ ]* ){4}\\['"
   ]
  },
  {
   "cell_type": "markdown",
   "id": "865438aa",
   "metadata": {
    "heading_collapsed": true
   },
   "source": [
    "#### 1.7 Repartion + PartitionBy : Column"
   ]
  },
  {
   "cell_type": "code",
   "execution_count": 48,
   "id": "febcc273",
   "metadata": {
    "hidden": true
   },
   "outputs": [
    {
     "name": "stderr",
     "output_type": "stream",
     "text": [
      "                                                                                \r"
     ]
    }
   ],
   "source": [
    "green_df \\\n",
    "    .repartition(\"pickup_year\") \\\n",
    "    .write \\\n",
    "    .partitionBy(\"pickup_year\") \\\n",
    "    .mode(\"overwrite\")\\\n",
    "    .csv(\"data/partitions/repartion_partionBy_col.csv\", header=True)"
   ]
  },
  {
   "cell_type": "code",
   "execution_count": 1,
   "id": "9b5a3fdd",
   "metadata": {
    "hidden": true
   },
   "outputs": [
    {
     "name": "stdout",
     "output_type": "stream",
     "text": [
      "\u001b[01;34mdata/partitions/repartion_partionBy_col.csv/\u001b[0m\r\n",
      "├── \u001b[00m_SUCCESS\u001b[0m\r\n",
      "├── \u001b[01;34mpickup_year=2008\u001b[0m\r\n",
      "│   └── \u001b[00mpart-00001-fa509a03-3198-4aec-80b2-ea0d0b74e53c.c000.csv\u001b[0m\r\n",
      "├── \u001b[01;34mpickup_year=2009\u001b[0m\r\n",
      "│   └── \u001b[00mpart-00001-fa509a03-3198-4aec-80b2-ea0d0b74e53c.c000.csv\u001b[0m\r\n",
      "├── \u001b[01;34mpickup_year=2010\u001b[0m\r\n",
      "│   └── \u001b[00mpart-00001-fa509a03-3198-4aec-80b2-ea0d0b74e53c.c000.csv\u001b[0m\r\n",
      "├── \u001b[01;34mpickup_year=2018\u001b[0m\r\n",
      "│   └── \u001b[00mpart-00000-fa509a03-3198-4aec-80b2-ea0d0b74e53c.c000.csv\u001b[0m\r\n",
      "├── \u001b[01;34mpickup_year=2019\u001b[0m\r\n",
      "│   └── \u001b[00mpart-00000-fa509a03-3198-4aec-80b2-ea0d0b74e53c.c000.csv\u001b[0m\r\n",
      "├── \u001b[01;34mpickup_year=2020\u001b[0m\r\n",
      "│   └── \u001b[00mpart-00001-fa509a03-3198-4aec-80b2-ea0d0b74e53c.c000.csv\u001b[0m\r\n",
      "├── \u001b[01;34mpickup_year=2021\u001b[0m\r\n",
      "│   └── \u001b[00mpart-00001-fa509a03-3198-4aec-80b2-ea0d0b74e53c.c000.csv\u001b[0m\r\n",
      "├── \u001b[01;34mpickup_year=2035\u001b[0m\r\n",
      "│   └── \u001b[00mpart-00000-fa509a03-3198-4aec-80b2-ea0d0b74e53c.c000.csv\u001b[0m\r\n",
      "├── \u001b[01;34mpickup_year=2041\u001b[0m\r\n",
      "│   └── \u001b[00mpart-00000-fa509a03-3198-4aec-80b2-ea0d0b74e53c.c000.csv\u001b[0m\r\n",
      "└── \u001b[01;34mpickup_year=2062\u001b[0m\r\n",
      "    └── \u001b[00mpart-00000-fa509a03-3198-4aec-80b2-ea0d0b74e53c.c000.csv\u001b[0m\r\n",
      "\r\n",
      "10 directories, 11 files\r\n"
     ]
    }
   ],
   "source": [
    "! tree data/partitions/repartion_partionBy_col.csv/ "
   ]
  },
  {
   "cell_type": "code",
   "execution_count": null,
   "id": "9288e71e",
   "metadata": {
    "hidden": true
   },
   "outputs": [],
   "source": []
  },
  {
   "cell_type": "code",
   "execution_count": 90,
   "id": "f2be3726",
   "metadata": {
    "hidden": true
   },
   "outputs": [
    {
     "name": "stdout",
     "output_type": "stream",
     "text": [
      "\u001b[01;34mdata/partitions/repartion_partionBy_col.csv\u001b[0m\r\n",
      "├── \u001b[00m_SUCCESS\u001b[0m\r\n",
      "├── \u001b[01;34mpickup_year=2008\u001b[0m\r\n",
      "│   └── \u001b[00mpart-00001-fa509a03-3198-4aec-80b2-ea0d0b74e53c.c000.csv\u001b[0m\r\n",
      "├── \u001b[01;34mpickup_year=2009\u001b[0m\r\n",
      "│   └── \u001b[00mpart-00001-fa509a03-3198-4aec-80b2-ea0d0b74e53c.c000.csv\u001b[0m\r\n",
      "├── \u001b[01;34mpickup_year=2010\u001b[0m\r\n",
      "│   └── \u001b[00mpart-00001-fa509a03-3198-4aec-80b2-ea0d0b74e53c.c000.csv\u001b[0m\r\n",
      "├── \u001b[01;34mpickup_year=2018\u001b[0m\r\n",
      "│   └── \u001b[00mpart-00000-fa509a03-3198-4aec-80b2-ea0d0b74e53c.c000.csv\u001b[0m\r\n",
      "├── \u001b[01;34mpickup_year=2019\u001b[0m\r\n",
      "│   └── \u001b[00mpart-00000-fa509a03-3198-4aec-80b2-ea0d0b74e53c.c000.csv\u001b[0m\r\n",
      "├── \u001b[01;34mpickup_year=2020\u001b[0m\r\n",
      "│   └── \u001b[00mpart-00001-fa509a03-3198-4aec-80b2-ea0d0b74e53c.c000.csv\u001b[0m\r\n",
      "├── \u001b[01;34mpickup_year=2021\u001b[0m\r\n",
      "│   └── \u001b[00mpart-00001-fa509a03-3198-4aec-80b2-ea0d0b74e53c.c000.csv\u001b[0m\r\n",
      "├── \u001b[01;34mpickup_year=2035\u001b[0m\r\n",
      "│   └── \u001b[00mpart-00000-fa509a03-3198-4aec-80b2-ea0d0b74e53c.c000.csv\u001b[0m\r\n",
      "├── \u001b[01;34mpickup_year=2041\u001b[0m\r\n",
      "│   └── \u001b[00mpart-00000-fa509a03-3198-4aec-80b2-ea0d0b74e53c.c000.csv\u001b[0m\r\n",
      "└── \u001b[01;34mpickup_year=2062\u001b[0m\r\n",
      "    └── \u001b[00mpart-00000-fa509a03-3198-4aec-80b2-ea0d0b74e53c.c000.csv\u001b[0m\r\n",
      "\r\n",
      "10 directories, 11 files\r\n"
     ]
    }
   ],
   "source": [
    "! tree data/partitions/repartion_partionBy_col.csv "
   ]
  },
  {
   "cell_type": "markdown",
   "id": "f276a8fd",
   "metadata": {
    "heading_collapsed": true
   },
   "source": [
    "#### 1.8 Repartion + PartittionBy : Num + Column"
   ]
  },
  {
   "cell_type": "code",
   "execution_count": 106,
   "id": "8791b602",
   "metadata": {
    "hidden": true
   },
   "outputs": [
    {
     "name": "stderr",
     "output_type": "stream",
     "text": [
      "                                                                                \r"
     ]
    }
   ],
   "source": [
    "green_df \\\n",
    "    .repartition(2) \\\n",
    "    .write \\\n",
    "    .partitionBy(\"pickup_year\") \\\n",
    "    .mode(\"overwrite\")\\\n",
    "    .csv(\"data/partitions/repartion_partionBy_num.csv\", header=True)"
   ]
  },
  {
   "cell_type": "code",
   "execution_count": 146,
   "id": "09f9ad2b",
   "metadata": {
    "hidden": true
   },
   "outputs": [
    {
     "name": "stdout",
     "output_type": "stream",
     "text": [
      "_SUCCESS         \u001b[1m\u001b[36mpickup_year=2010\u001b[m\u001b[m \u001b[1m\u001b[36mpickup_year=2020\u001b[m\u001b[m \u001b[1m\u001b[36mpickup_year=2041\u001b[m\u001b[m\r\n",
      "\u001b[1m\u001b[36mpickup_year=2008\u001b[m\u001b[m \u001b[1m\u001b[36mpickup_year=2018\u001b[m\u001b[m \u001b[1m\u001b[36mpickup_year=2021\u001b[m\u001b[m \u001b[1m\u001b[36mpickup_year=2062\u001b[m\u001b[m\r\n",
      "\u001b[1m\u001b[36mpickup_year=2009\u001b[m\u001b[m \u001b[1m\u001b[36mpickup_year=2019\u001b[m\u001b[m \u001b[1m\u001b[36mpickup_year=2035\u001b[m\u001b[m\r\n"
     ]
    }
   ],
   "source": [
    "! ls data/partitions/repartion_partionBy_num.csv"
   ]
  },
  {
   "cell_type": "code",
   "execution_count": 145,
   "id": "427bc0f2",
   "metadata": {
    "hidden": true
   },
   "outputs": [
    {
     "name": "stdout",
     "output_type": "stream",
     "text": [
      "total 460288\r\n",
      "230144 part-00000-13b54b24-2a2c-4476-bc1d-6af3fb8e3c7a.c000.csv\r\n",
      "230144 part-00001-13b54b24-2a2c-4476-bc1d-6af3fb8e3c7a.c000.csv\r\n"
     ]
    }
   ],
   "source": [
    "! ls -sh data/partitions/repartion_partionBy_num.csv/pickup_year=2020"
   ]
  },
  {
   "cell_type": "code",
   "execution_count": null,
   "id": "5ea623ad",
   "metadata": {
    "hidden": true
   },
   "outputs": [],
   "source": []
  }
 ],
 "metadata": {
  "kernelspec": {
   "display_name": "Python 3 (ipykernel)",
   "language": "python",
   "name": "python3"
  },
  "language_info": {
   "codemirror_mode": {
    "name": "ipython",
    "version": 3
   },
   "file_extension": ".py",
   "mimetype": "text/x-python",
   "name": "python",
   "nbconvert_exporter": "python",
   "pygments_lexer": "ipython3",
   "version": "3.9.10"
  }
 },
 "nbformat": 4,
 "nbformat_minor": 5
}
